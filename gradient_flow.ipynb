{
 "cells": [
  {
   "cell_type": "code",
   "execution_count": 1,
   "id": "30f19291-3ae0-4e21-a73e-fbb91f2a07fb",
   "metadata": {
    "tags": []
   },
   "outputs": [],
   "source": [
    "# gradient flow\n"
   ]
  },
  {
   "cell_type": "code",
   "execution_count": 2,
   "id": "f12f2dfb-9652-464c-b8e0-7a6eb89c16c9",
   "metadata": {
    "tags": []
   },
   "outputs": [
    {
     "name": "stdout",
     "output_type": "stream",
     "text": [
      "Gradient with respect to A: tensor([[2.4738, 1.5374, 1.6018, 2.5614, 2.1059, 1.8032],\n",
      "        [1.4361, 1.9887, 1.7387, 2.0531, 0.9833, 1.6734],\n",
      "        [2.5670, 1.4793, 1.7064, 2.7541, 2.4785, 2.3514],\n",
      "        [2.9891, 1.4502, 1.5034, 2.3759, 2.1021, 2.0543],\n",
      "        [2.6082, 1.9362, 1.6010, 2.0288, 1.7324, 2.2117]])\n",
      "C B is: tensor([[2.4738, 1.5374, 1.6018, 2.5614, 2.1059, 1.8032],\n",
      "        [1.4361, 1.9887, 1.7387, 2.0531, 0.9833, 1.6734],\n",
      "        [2.5670, 1.4793, 1.7064, 2.7541, 2.4785, 2.3514],\n",
      "        [2.9891, 1.4502, 1.5034, 2.3759, 2.1021, 2.0543],\n",
      "        [2.6082, 1.9362, 1.6010, 2.0288, 1.7324, 2.2117]])\n"
     ]
    }
   ],
   "source": [
    "#\n",
    "import numpy as np \n",
    "import torch \n",
    "n=5\n",
    "m=6 \n",
    "l=7\n",
    "\n",
    "A=torch.rand(n,m,requires_grad=True)\n",
    "B=torch.rand(m,l)\n",
    "C=torch.rand(n,l)\n",
    "\n",
    "loss=torch.sum(A.matmul(B)*C)\n",
    "loss.backward()\n",
    "\n",
    "\n",
    "print(\"Gradient with respect to A:\", A.grad)\n",
    "print('C B is:', C.matmul(B.T))"
   ]
  },
  {
   "cell_type": "code",
   "execution_count": 29,
   "id": "4eaab0dc-96db-4f01-a652-ca1d5ae8ad61",
   "metadata": {
    "tags": []
   },
   "outputs": [
    {
     "name": "stdout",
     "output_type": "stream",
     "text": [
      "[[0.02265448 0.04108533 0.03445348]\n",
      " [0.0003229  0.06095261 0.12752515]\n",
      " [0.09098789 0.16764977 0.11646774]]\n",
      "[[0.09 0.12 0.15]\n",
      " [0.12 0.16 0.2 ]\n",
      " [0.15 0.2  0.25]]\n",
      "[[0.09 0.12 0.15]\n",
      " [0.12 0.16 0.2 ]\n",
      " [0.15 0.2  0.25]]\n"
     ]
    }
   ],
   "source": [
    "p=np.array([0.3,0.4,0.5])\n",
    "gamma=np.diag(p)\n",
    "C1=np.random.rand(3,3)\n",
    "\n",
    "result1=gamma.dot(C1).dot(gamma.T)\n",
    "result2=(gamma.dot(np.ones((3,1))).dot(p.reshape((1,3))))\n",
    "result3=p.reshape((3,1)).dot(p.reshape((1,3)))\n",
    "print(result1)\n",
    "print(result2)\n",
    "print(result3)"
   ]
  },
  {
   "cell_type": "code",
   "execution_count": 26,
   "id": "5d644e6b-9826-4973-84f4-f42abae52cad",
   "metadata": {
    "tags": []
   },
   "outputs": [
    {
     "data": {
      "text/plain": [
       "array([0.3])"
      ]
     },
     "execution_count": 26,
     "metadata": {},
     "output_type": "execute_result"
    }
   ],
   "source": [
    "gamma"
   ]
  },
  {
   "cell_type": "code",
   "execution_count": null,
   "id": "1fc7dc81-08d1-4ee1-bb4f-12b3cd25fb91",
   "metadata": {},
   "outputs": [],
   "source": []
  }
 ],
 "metadata": {
  "kernelspec": {
   "display_name": "Python 3 (ipykernel)",
   "language": "python",
   "name": "python3"
  },
  "language_info": {
   "codemirror_mode": {
    "name": "ipython",
    "version": 3
   },
   "file_extension": ".py",
   "mimetype": "text/x-python",
   "name": "python",
   "nbconvert_exporter": "python",
   "pygments_lexer": "ipython3",
   "version": "3.11.9"
  }
 },
 "nbformat": 4,
 "nbformat_minor": 5
}
