{
 "cells": [
  {
   "cell_type": "code",
   "execution_count": 1,
   "id": "30f19291-3ae0-4e21-a73e-fbb91f2a07fb",
   "metadata": {
    "tags": []
   },
   "outputs": [],
   "source": [
    "# gradient flow\n"
   ]
  },
  {
   "cell_type": "code",
   "execution_count": 13,
   "id": "f12f2dfb-9652-464c-b8e0-7a6eb89c16c9",
   "metadata": {
    "tags": []
   },
   "outputs": [
    {
     "name": "stdout",
     "output_type": "stream",
     "text": [
      "Gradient with respect to A: tensor([[2.0364, 1.1966, 1.4805, 1.4238, 1.2298, 2.2388],\n",
      "        [1.6087, 1.2380, 1.4918, 1.4684, 1.3202, 2.0814],\n",
      "        [1.2761, 0.8264, 1.2207, 1.0838, 1.1076, 2.0173],\n",
      "        [1.7019, 0.9980, 1.3544, 1.1629, 1.4505, 2.2074],\n",
      "        [1.9209, 0.9202, 2.0139, 1.5514, 1.2220, 2.6079]])\n",
      "C B is: tensor([[2.0364, 1.1966, 1.4805, 1.4238, 1.2298, 2.2388],\n",
      "        [1.6087, 1.2380, 1.4918, 1.4684, 1.3202, 2.0814],\n",
      "        [1.2761, 0.8264, 1.2207, 1.0838, 1.1076, 2.0173],\n",
      "        [1.7019, 0.9980, 1.3544, 1.1629, 1.4505, 2.2074],\n",
      "        [1.9209, 0.9202, 2.0139, 1.5514, 1.2220, 2.6079]])\n"
     ]
    }
   ],
   "source": [
    "#\n",
    "import numpy as np \n",
    "import torch \n",
    "n=5\n",
    "m=6 \n",
    "l=7\n",
    "\n",
    "A=torch.rand(n,m,requires_grad=True)\n",
    "B=torch.rand(m,l)\n",
    "C=torch.rand(n,l)\n",
    "\n",
    "loss=torch.sum(A.matmul(B)*C)\n",
    "loss.backward()\n",
    "\n",
    "\n",
    "print(\"Gradient with respect to A:\", A.grad)\n",
    "print('C B is:', C.matmul(B.T))"
   ]
  },
  {
   "cell_type": "code",
   "execution_count": 29,
   "id": "4eaab0dc-96db-4f01-a652-ca1d5ae8ad61",
   "metadata": {
    "tags": []
   },
   "outputs": [
    {
     "name": "stdout",
     "output_type": "stream",
     "text": [
      "[[0.02265448 0.04108533 0.03445348]\n",
      " [0.0003229  0.06095261 0.12752515]\n",
      " [0.09098789 0.16764977 0.11646774]]\n",
      "[[0.09 0.12 0.15]\n",
      " [0.12 0.16 0.2 ]\n",
      " [0.15 0.2  0.25]]\n",
      "[[0.09 0.12 0.15]\n",
      " [0.12 0.16 0.2 ]\n",
      " [0.15 0.2  0.25]]\n"
     ]
    }
   ],
   "source": [
    "p=np.array([0.3,0.4,0.5])\n",
    "gamma=np.diag(p)\n",
    "C1=np.random.rand(3,3)\n",
    "\n",
    "result1=gamma.dot(C1).dot(gamma.T)\n",
    "result2=(gamma.dot(np.ones((3,1))).dot(p.reshape((1,3))))\n",
    "result3=p.reshape((3,1)).dot(p.reshape((1,3)))\n",
    "print(result1)\n",
    "print(result2)\n",
    "print(result3)"
   ]
  },
  {
   "cell_type": "code",
   "execution_count": 26,
   "id": "5d644e6b-9826-4973-84f4-f42abae52cad",
   "metadata": {
    "tags": []
   },
   "outputs": [
    {
     "data": {
      "text/plain": [
       "array([0.3])"
      ]
     },
     "execution_count": 26,
     "metadata": {},
     "output_type": "execute_result"
    }
   ],
   "source": [
    "gamma"
   ]
  },
  {
   "cell_type": "code",
   "execution_count": null,
   "id": "1fc7dc81-08d1-4ee1-bb4f-12b3cd25fb91",
   "metadata": {},
   "outputs": [],
   "source": []
  }
 ],
 "metadata": {
  "kernelspec": {
   "display_name": "Python 3 (ipykernel)",
   "language": "python",
   "name": "python3"
  },
  "language_info": {
   "codemirror_mode": {
    "name": "ipython",
    "version": 3
   },
   "file_extension": ".py",
   "mimetype": "text/x-python",
   "name": "python",
   "nbconvert_exporter": "python",
   "pygments_lexer": "ipython3",
   "version": "3.11.4"
  }
 },
 "nbformat": 4,
 "nbformat_minor": 5
}
