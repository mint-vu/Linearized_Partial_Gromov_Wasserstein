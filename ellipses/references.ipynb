{
 "cells": [
  {
   "cell_type": "code",
   "execution_count": 1,
   "metadata": {},
   "outputs": [],
   "source": [
    "import numpy as np\n",
    "import cv2\n",
    "import matplotlib.pyplot as plt\n",
    "from utils import *"
   ]
  },
  {
   "cell_type": "code",
   "execution_count": 2,
   "metadata": {},
   "outputs": [],
   "source": [
    "# Define parameters\n",
    "Nx = 10\n",
    "Ny = 10\n",
    "N = Nx * Ny\n",
    "x_len = 50\n",
    "y_len = 50"
   ]
  },
  {
   "cell_type": "code",
   "execution_count": 3,
   "metadata": {},
   "outputs": [
    {
     "data": {
      "image/png": "[encoded data removed]",
      "text/plain": [
       "<Figure size 1800x200 with 9 Axes>"
      ]
     },
     "metadata": {},
     "output_type": "display_data"
    }
   ],
   "source": [
    "refs = []\n",
    "imgs = []\n",
    "\n",
    "fig,ax = plt.subplots(1,9,figsize=(18,2))\n",
    "for x in ax.ravel():\n",
    "    x.axis(\"off\")\n",
    "\n",
    "circ = cv2.circle(np.zeros((x_len,y_len)),(x_len//2,y_len//2),x_len//4,color=1,thickness=-1)\n",
    "circ /= np.sum(circ)\n",
    "ax[0].imshow(circ)\n",
    "imgs.append(circ)\n",
    "refs.append(mm_space_from_img(circ))\n",
    "\n",
    "rec = cv2.rectangle(np.zeros((x_len,y_len)),(x_len//4,x_len//4),(3*x_len//4,3*x_len//4),color=1,thickness=-1)\n",
    "rec /= np.sum(rec)\n",
    "ax[1].imshow(rec)\n",
    "imgs.append(rec)\n",
    "refs.append(mm_space_from_img(rec))\n",
    "\n",
    "rec2 = np.zeros((x_len,y_len))\n",
    "for i in range(x_len//4,3*x_len//4):\n",
    "    for j in range(x_len//4,3*x_len//4):\n",
    "        rec2[i,j] = i+j\n",
    "rec2 /= np.sum(rec2)\n",
    "ax[2].imshow(rec2)\n",
    "imgs.append(rec2)\n",
    "refs.append(mm_space_from_img(rec2))\n",
    "\n",
    "tmp_pts = [(x_len//4,y_len//4),(x_len//4 + 1,y_len//4),(3*x_len//4 + 1,3*y_len//4),(3*x_len//4,3*y_len//4)]\n",
    "line = cv2.fillPoly(np.zeros((x_len,y_len)), np.array([tmp_pts]), 1)\n",
    "line /= np.sum(line)\n",
    "ax[3].imshow(line)\n",
    "imgs.append(line)\n",
    "refs.append(mm_space_from_img(line))\n",
    "\n",
    "tmp_pts = [(x_len//4 - 4,y_len//4 - 4),(x_len//4,y_len//2+2),(3*x_len//4+4,3*y_len//4+4)]\n",
    "tri = cv2.fillPoly(np.zeros((x_len,y_len)), np.array([tmp_pts]), 1)\n",
    "tri /= np.sum(tri)\n",
    "ax[4].imshow(tri)\n",
    "imgs.append(tri)\n",
    "refs.append(mm_space_from_img(tri))\n",
    "\n",
    "tmp_pts = [(x_len//4 - 8,y_len//4 - 8),(x_len//4+8,y_len//2+20),(3*x_len//4+4,3*y_len//4)]\n",
    "tri2 = cv2.fillPoly(np.zeros((x_len,y_len)), np.array([tmp_pts]), 1)\n",
    "tri2 /= np.sum(tri2)\n",
    "ax[5].imshow(tri2)\n",
    "imgs.append(tri2)\n",
    "refs.append(mm_space_from_img(tri2))\n",
    "\n",
    "circ2 = cv2.circle(np.zeros((x_len,y_len)),(x_len//4,y_len//4),x_len//4,color=1,thickness=-1) + cv2.circle(np.zeros((x_len,y_len)),(3*x_len//4,3*y_len//4),x_len//4,color=1,thickness=-1)\n",
    "circ2 /= np.sum(circ2)\n",
    "ax[6].imshow(circ2)\n",
    "imgs.append(circ2)\n",
    "refs.append(mm_space_from_img(circ2))\n",
    "\n",
    "circ3 = np.copy(circ2)\n",
    "for i in range(25,50):\n",
    "    circ3[i,i:] *= 2\n",
    "circ3 /= np.sum(circ3)\n",
    "ax[7].imshow(circ3)\n",
    "imgs.append(circ3)\n",
    "refs.append(mm_space_from_img(circ3))\n",
    "\n",
    "ells = np.loadtxt(\"ellipses_data.txt\").reshape((N,x_len,y_len))\n",
    "m_ell = ells[28]\n",
    "m_ell /= np.sum(m_ell)\n",
    "ax[8].imshow(m_ell)\n",
    "imgs.append(m_ell)\n",
    "refs.append(mm_space_from_img(m_ell))\n",
    "\n",
    "plt.tight_layout()\n",
    "plt.show()"
   ]
  },
  {
   "cell_type": "code",
   "execution_count": 4,
   "metadata": {},
   "outputs": [
    {
     "data": {
      "image/png": "[encoded data removed]",
      "text/plain": [
       "<Figure size 640x480 with 1 Axes>"
      ]
     },
     "metadata": {},
     "output_type": "display_data"
    }
   ],
   "source": [
    "for i in range(9):\n",
    "    plt.imshow(imgs[i])\n",
    "    plt.axis(\"off\")\n",
    "    plt.savefig(\"./data/S_\" + str(i+1),pad_inches=0,bbox_inches=\"tight\")"
   ]
  },
  {
   "cell_type": "code",
   "execution_count": 5,
   "metadata": {},
   "outputs": [
    {
     "data": {
      "text/plain": [
       "(9, 50, 50)"
      ]
     },
     "execution_count": 5,
     "metadata": {},
     "output_type": "execute_result"
    }
   ],
   "source": [
    "imgs = np.array(imgs)\n",
    "np.save(\"./data/refs.npy\", imgs)\n",
    "imgs.shape"
   ]
  },
  {
   "cell_type": "code",
   "execution_count": null,
   "metadata": {},
   "outputs": [],
   "source": []
  }
 ],
 "metadata": {
  "kernelspec": {
   "display_name": "dev",
   "language": "python",
   "name": "python3"
  },
  "language_info": {
   "codemirror_mode": {
    "name": "ipython",
    "version": 3
   },
   "file_extension": ".py",
   "mimetype": "text/x-python",
   "name": "python",
   "nbconvert_exporter": "python",
   "pygments_lexer": "ipython3",
   "version": "3.11.4"
  }
 },
 "nbformat": 4,
 "nbformat_minor": 2
}
