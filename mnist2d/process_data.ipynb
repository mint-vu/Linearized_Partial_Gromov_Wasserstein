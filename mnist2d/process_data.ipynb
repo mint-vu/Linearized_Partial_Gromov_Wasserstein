{
 "cells": [
  {
   "cell_type": "code",
   "execution_count": 1,
   "metadata": {},
   "outputs": [],
   "source": [
    "import pandas as pd\n",
    "import numpy as np\n",
    "import torch\n",
    "from tqdm import tqdm"
   ]
  },
  {
   "cell_type": "code",
   "execution_count": 2,
   "metadata": {},
   "outputs": [],
   "source": [
    "data = pd.read_csv('data/train.csv')\n",
    "y = data['label'].values\n",
    "\n",
    "posns = []\n",
    "\n",
    "for i in range(len(data)):\n",
    "    row = data.iloc[i].values[1:]\n",
    "\n",
    "    idx = []\n",
    "    for j in range(len(row)):\n",
    "        if j % 3 == 0 and row[j] != -1:\n",
    "            idx.append(j)\n",
    "\n",
    "    posn = np.array([row[idx], row[[i+1 for i in idx]], row[[i+2 for i in idx]]]).T\n",
    "    posns.append(posn)\n"
   ]
  },
  {
   "cell_type": "code",
   "execution_count": 3,
   "metadata": {},
   "outputs": [],
   "source": [
    "# Save posns\n",
    "np.savez('data/posns_train', *posns)\n",
    "np.save('data/y_train', y)"
   ]
  },
  {
   "cell_type": "code",
   "execution_count": 4,
   "metadata": {},
   "outputs": [
    {
     "data": {
      "text/plain": [
       "(60000,)"
      ]
     },
     "execution_count": 4,
     "metadata": {},
     "output_type": "execute_result"
    }
   ],
   "source": [
    "data = np.load(\"data/posns_train.npz\")\n",
    "yp = np.load(\"data/y_train.npy\")\n",
    "data = list(data.values())\n",
    "yp.shape"
   ]
  },
  {
   "cell_type": "code",
   "execution_count": 5,
   "metadata": {},
   "outputs": [
    {
     "data": {
      "text/plain": [
       "True"
      ]
     },
     "execution_count": 5,
     "metadata": {},
     "output_type": "execute_result"
    }
   ],
   "source": [
    "[d.shape for d in data] == [p.shape for p in posns]"
   ]
  },
  {
   "cell_type": "code",
   "execution_count": 6,
   "metadata": {},
   "outputs": [],
   "source": [
    "thetas = [np.radians(0),np.radians(90), np.radians(180), np.radians(270)]\n",
    "cos = [np.cos(th) for th in thetas]\n",
    "sin = [np.sin(th) for th in thetas]\n",
    "\n",
    "rots = np.array([np.array([[c, -s], [s, c]]) for c, s in zip(cos, sin)] + [np.array([[-1, 0], [0, 1]])])\n",
    "rots = torch.tensor(rots, dtype=torch.float32).to('cuda')"
   ]
  },
  {
   "cell_type": "code",
   "execution_count": 7,
   "metadata": {},
   "outputs": [
    {
     "name": "stderr",
     "output_type": "stream",
     "text": [
      "100%|██████████| 60000/60000 [00:13<00:00, 4452.37it/s]\n"
     ]
    }
   ],
   "source": [
    "rot_posns = []\n",
    "\n",
    "for d in tqdm(data):\n",
    "    d = torch.tensor(d, dtype=torch.float32).to('cuda')\n",
    "    rot_d = d[:, :2] @ rots\n",
    "    rot_d = torch.cat([rot_d, d[:, 2].reshape(1, len(d), 1).repeat(len(rots), 1, 1)], dim=2)\n",
    "\n",
    "    rot_d = rot_d.cpu().numpy()\n",
    "    for i in range(len(rot_d)):\n",
    "        rot_posns.append(rot_d[i])\n",
    "\n",
    "np.savez('data/posns_train_rot', *rot_posns)"
   ]
  },
  {
   "cell_type": "code",
   "execution_count": 14,
   "metadata": {},
   "outputs": [
    {
     "name": "stderr",
     "output_type": "stream",
     "text": [
      "100%|██████████| 300000/300000 [00:09<00:00, 31861.44it/s]\n"
     ]
    },
    {
     "name": "stdout",
     "output_type": "stream",
     "text": [
      "300000\n"
     ]
    },
    {
     "name": "stderr",
     "output_type": "stream",
     "text": [
      "100%|██████████| 300000/300000 [00:08<00:00, 35654.36it/s]\n"
     ]
    },
    {
     "name": "stdout",
     "output_type": "stream",
     "text": [
      "300000\n"
     ]
    }
   ],
   "source": [
    "for noise in [0.05, 0.10]:\n",
    "\n",
    "    noise_posns = []\n",
    "\n",
    "    for pos in tqdm(rot_posns):\n",
    "        n_pts = pos.shape[0]\n",
    "        n_noise = int(n_pts * noise)\n",
    "\n",
    "        noise_pts = np.random.randint(0, 28, size=(n_noise, 2))\n",
    "        vnoise_val = int(pos[:, 2].sum() * noise / n_noise)\n",
    "        vnoise = np.ones((n_noise, 1)) * vnoise_val\n",
    "\n",
    "        noise_pts = np.concatenate([noise_pts, vnoise], axis=1)\n",
    "\n",
    "        pos = np.concatenate([pos, noise_pts], axis=0)\n",
    "\n",
    "        noise_posns.append(pos)\n",
    "\n",
    "    np.savez(f'data/posns_train_noise_{int(noise*100)}', *noise_posns)\n",
    "    print(len(noise_posns))"
   ]
  },
  {
   "cell_type": "code",
   "execution_count": 17,
   "metadata": {},
   "outputs": [],
   "source": [
    "data = pd.read_csv('data/test.csv')\n",
    "y = data['label'].values\n",
    "\n",
    "posns = []\n",
    "\n",
    "for i in range(len(data)):\n",
    "    row = data.iloc[i].values[1:]\n",
    "\n",
    "    idx = []\n",
    "    for j in range(len(row)):\n",
    "        if j % 3 == 0 and row[j] != -1:\n",
    "            idx.append(j)\n",
    "\n",
    "    posn = np.array([row[idx], row[[i+1 for i in idx]], row[[i+2 for i in idx]]]).T\n",
    "    posns.append(posn)\n"
   ]
  },
  {
   "cell_type": "code",
   "execution_count": 18,
   "metadata": {},
   "outputs": [],
   "source": [
    "# Save posns\n",
    "np.savez('data/posns_test', *posns)\n",
    "np.save('data/y_test', y)"
   ]
  },
  {
   "cell_type": "code",
   "execution_count": 20,
   "metadata": {},
   "outputs": [
    {
     "data": {
      "text/plain": [
       "(10000,)"
      ]
     },
     "execution_count": 20,
     "metadata": {},
     "output_type": "execute_result"
    }
   ],
   "source": [
    "data = np.load(\"data/posns_test.npz\")\n",
    "yp = np.load(\"data/y_test.npy\")\n",
    "data = list(data.values())\n",
    "yp.shape"
   ]
  },
  {
   "cell_type": "code",
   "execution_count": 21,
   "metadata": {},
   "outputs": [
    {
     "data": {
      "text/plain": [
       "True"
      ]
     },
     "execution_count": 21,
     "metadata": {},
     "output_type": "execute_result"
    }
   ],
   "source": [
    "[d.shape for d in data] == [p.shape for p in posns]"
   ]
  },
  {
   "cell_type": "code",
   "execution_count": 22,
   "metadata": {},
   "outputs": [
    {
     "name": "stderr",
     "output_type": "stream",
     "text": [
      "  0%|          | 0/10000 [00:00<?, ?it/s]"
     ]
    },
    {
     "name": "stderr",
     "output_type": "stream",
     "text": [
      "100%|██████████| 10000/10000 [00:02<00:00, 4740.12it/s]\n"
     ]
    }
   ],
   "source": [
    "rot_posns = []\n",
    "\n",
    "for d in tqdm(data):\n",
    "    d = torch.tensor(d, dtype=torch.float32).to('cuda')\n",
    "    rot_d = d[:, :2] @ rots\n",
    "    rot_d = torch.cat([rot_d, d[:, 2].reshape(1, len(d), 1).repeat(len(rots), 1, 1)], dim=2)\n",
    "\n",
    "    rot_d = rot_d.cpu().numpy()\n",
    "    for i in range(len(rot_d)):\n",
    "        rot_posns.append(rot_d[i])\n",
    "\n",
    "np.savez('data/posns_test_rot', *rot_posns)"
   ]
  },
  {
   "cell_type": "code",
   "execution_count": 35,
   "metadata": {},
   "outputs": [
    {
     "name": "stderr",
     "output_type": "stream",
     "text": [
      "100%|████████████████████████████████| 300000/300000 [00:08<00:00, 34412.14it/s]\n"
     ]
    },
    {
     "name": "stdout",
     "output_type": "stream",
     "text": [
      "300000\n"
     ]
    },
    {
     "name": "stderr",
     "output_type": "stream",
     "text": [
      "100%|████████████████████████████████| 300000/300000 [00:08<00:00, 35703.49it/s]\n"
     ]
    },
    {
     "name": "stdout",
     "output_type": "stream",
     "text": [
      "300000\n"
     ]
    },
    {
     "name": "stderr",
     "output_type": "stream",
     "text": [
      "100%|████████████████████████████████| 300000/300000 [00:08<00:00, 34318.51it/s]\n"
     ]
    },
    {
     "name": "stdout",
     "output_type": "stream",
     "text": [
      "300000\n"
     ]
    },
    {
     "name": "stderr",
     "output_type": "stream",
     "text": [
      "100%|████████████████████████████████| 300000/300000 [00:09<00:00, 32769.89it/s]\n"
     ]
    },
    {
     "name": "stdout",
     "output_type": "stream",
     "text": [
      "300000\n"
     ]
    }
   ],
   "source": [
    "for noise in [0.05, 0.10,0.2,0.5]:\n",
    "\n",
    "    noise_posns = []\n",
    "\n",
    "    for pos in tqdm(rot_posns):\n",
    "        n_pts = pos.shape[0]\n",
    "        n_noise = int(n_pts * noise)\n",
    "\n",
    "        noise_pts = np.random.randint(-10, 35, size=(n_noise, 2))\n",
    "        vnoise_val = int(pos[:, 2].sum() * noise / n_noise)\n",
    "        vnoise = np.ones((n_noise, 1)) * vnoise_val\n",
    "\n",
    "        noise_pts = np.concatenate([noise_pts, vnoise], axis=1)\n",
    "\n",
    "        pos = np.concatenate([pos, noise_pts], axis=0)\n",
    "\n",
    "        noise_posns.append(pos)\n",
    "\n",
    "    torch.save(noise_posns,f'data/posns_test_noise_{int(noise*100)}.pt')\n",
    "    print(len(noise_posns))"
   ]
  },
  {
   "cell_type": "code",
   "execution_count": null,
   "metadata": {},
   "outputs": [],
   "source": [
    "# Visualize a digit\n",
    "import matplotlib.pyplot as plt\n",
    "posn = noise_posns[0]\n",
    "plt.figure(figsize=(5, 5))\n",
    "plt.scatter(posn[:, 0], posn[:, 1], c='black', s=posn[:, 2]/10)\n",
    "plt.show()"
   ]
  }
 ],
 "metadata": {
  "kernelspec": {
   "display_name": "Python 3 (ipykernel)",
   "language": "python",
   "name": "python3"
  },
  "language_info": {
   "codemirror_mode": {
    "name": "ipython",
    "version": 3
   },
   "file_extension": ".py",
   "mimetype": "text/x-python",
   "name": "python",
   "nbconvert_exporter": "python",
   "pygments_lexer": "ipython3",
   "version": "3.11.4"
  }
 },
 "nbformat": 4,
 "nbformat_minor": 4
}
